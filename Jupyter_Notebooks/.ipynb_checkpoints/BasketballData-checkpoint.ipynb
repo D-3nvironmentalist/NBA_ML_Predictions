{
 "cells": [
  {
   "cell_type": "code",
   "execution_count": null,
   "metadata": {},
   "outputs": [],
   "source": [
    "import pandas as pd\n",
    "from sportsreference.nba.teams import Teams\n",
    "teams = Teams(\"2020\")\n",
    "\n",
    "stats_19_20 = teams.dataframes\n",
    "\n",
    "stats_19_20"
   ]
  },
  {
   "cell_type": "code",
   "execution_count": null,
   "metadata": {},
   "outputs": [],
   "source": [
    "teams = Teams(\"2019\")\n",
    "\n",
    "stats_18_19 = teams.dataframes\n",
    "\n",
    "stats_18_19"
   ]
  },
  {
   "cell_type": "code",
   "execution_count": null,
   "metadata": {},
   "outputs": [],
   "source": [
    "stats_17_18 = Teams(\"2018\").dataframes\n",
    "\n",
    "stats_17_18"
   ]
  },
  {
   "cell_type": "code",
   "execution_count": null,
   "metadata": {},
   "outputs": [],
   "source": [
    "wins_17_18 = pd.read_csv('../Data/team_wins_17_18.csv')  \n",
    "wins_17_18"
   ]
  },
  {
   "cell_type": "code",
   "execution_count": null,
   "metadata": {},
   "outputs": [],
   "source": [
    "wins_18_19 = pd.read_csv('../Data/team_wins_18_19.csv')  \n",
    "wins_18_19"
   ]
  },
  {
   "cell_type": "code",
   "execution_count": null,
   "metadata": {},
   "outputs": [],
   "source": [
    "wins_19_20 = pd.read_csv('../Data/team_wins_19_20.csv')  \n",
    "wins_19_20"
   ]
  },
  {
   "cell_type": "code",
   "execution_count": null,
   "metadata": {},
   "outputs": [],
   "source": [
    "stats_19_20=stats_19_20.merge(wins_19_20, left_on='abbreviation', right_on='abbreviation')\n",
    "stats_19_20.head()"
   ]
  },
  {
   "cell_type": "code",
   "execution_count": null,
   "metadata": {},
   "outputs": [],
   "source": [
    "stats_18_19=stats_18_19.merge(wins_18_19, left_on='abbreviation', right_on='abbreviation')\n",
    "stats_18_19.head()"
   ]
  },
  {
   "cell_type": "code",
   "execution_count": null,
   "metadata": {},
   "outputs": [],
   "source": [
    "stats_17_18=stats_17_18.merge(wins_17_18, left_on='abbreviation', right_on='abbreviation')\n",
    "stats_17_18.head()"
   ]
  },
  {
   "cell_type": "code",
   "execution_count": null,
   "metadata": {},
   "outputs": [],
   "source": [
    "from scipy.stats import pearsonr\n",
    "\n",
    "df = stats_18_19\n",
    "\n",
    "df2 = df.drop(columns = [\"abbreviation\",\"name\"])\n",
    "\n",
    "names = []\n",
    "\n",
    "rval = []\n",
    "# iterating the columns \n",
    "for col in df2.columns: \n",
    "    \n",
    "    print(col)\n",
    "    \n",
    "    r = pearsonr(df2[col],df2[\"W\"])\n",
    "    print(r)\n",
    "    \n",
    "    names.append(col)\n",
    "    rval.append(r)\n",
    "    \n",
    "    \n",
    "    \n"
   ]
  },
  {
   "cell_type": "code",
   "execution_count": null,
   "metadata": {},
   "outputs": [],
   "source": [
    "selected_features = df2[[\"assists\", 'defensive_rebounds','field_goal_percentage','field_goals','opp_assists',\n",
    "                        'opp_blocks','opp_defensive_rebounds', 'opp_field_goal_percentage','opp_points',\n",
    "                        'opp_three_point_field_goal_percentage','opp_total_rebounds','opp_two_point_field_goal_percentage',\n",
    "                        'points', 'three_point_field_goal_percentage', 'total_rebounds','two_point_field_goal_percentage']]\n",
    "\n",
    "selected_features.head()"
   ]
  },
  {
   "cell_type": "code",
   "execution_count": null,
   "metadata": {},
   "outputs": [],
   "source": [
    "all_df = [stats_17_18, stats_18_19, stats_19_20]\n",
    "\n",
    "pd.concat(all_df).reset_index(drop=True)"
   ]
  },
  {
   "cell_type": "code",
   "execution_count": null,
   "metadata": {},
   "outputs": [],
   "source": []
  }
 ],
 "metadata": {
  "kernelspec": {
   "display_name": "Python 3",
   "language": "python",
   "name": "python3"
  },
  "language_info": {
   "codemirror_mode": {
    "name": "ipython",
    "version": 3
   },
   "file_extension": ".py",
   "mimetype": "text/x-python",
   "name": "python",
   "nbconvert_exporter": "python",
   "pygments_lexer": "ipython3",
   "version": "3.7.4"
  }
 },
 "nbformat": 4,
 "nbformat_minor": 4
}
